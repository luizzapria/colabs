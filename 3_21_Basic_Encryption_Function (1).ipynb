{
  "nbformat": 4,
  "nbformat_minor": 0,
  "metadata": {
    "colab": {
      "provenance": []
    },
    "kernelspec": {
      "name": "python3",
      "display_name": "Python 3"
    },
    "language_info": {
      "name": "python"
    }
  },
  "cells": [
    {
      "cell_type": "markdown",
      "source": [
        "#Problem Statement\n",
        "\n",
        "- Given a certain input, less than 5 or equal to 5 characters\n",
        "- Produce an encrypted\n",
        "\n",
        "How are we solving this?\n",
        "- Creating a function in Python\n",
        "\n",
        "What do we need?\n",
        "\n",
        "- Input (no more than 5 letters)\n",
        "- Key (no more than 10)\n",
        "- shift (left or right)"
      ],
      "metadata": {
        "id": "r7_qIVOpEULC"
      }
    },
    {
      "cell_type": "code",
      "execution_count": null,
      "metadata": {
        "id": "NeJCnbeKEEAT"
      },
      "outputs": [],
      "source": [
        "def caesar_cipher(input_text, key, shift_direction):\n",
        "    # Convert all characters in the input to lowercase\n",
        "    input_text = input_text.lower()\n",
        "    encrypted_text = \"\"\n",
        "\n",
        "    # Check if the input length is less than or equal to 5\n",
        "    if len(input_text) <= 5:\n",
        "        # Check if the key is valid\n",
        "        if key == 0:\n",
        "            # Return the input text as is\n",
        "            return input_text\n",
        "        elif 0 < key <= 26:\n",
        "            # Loop through each character in the input text\n",
        "            for char in input_text:\n",
        "                # Check if the character is a letter\n",
        "                if char.isalpha():\n",
        "                    # Calculate the ASCII value of the character and normalize it to 0-25 (a-z)\n",
        "                    char_code = ord(char) - ord('a')\n",
        "                    # Perform the shift\n",
        "                    if shift_direction == \"right\":\n",
        "                        char_code = (char_code + key) % 26\n",
        "                    elif shift_direction == \"left\":\n",
        "                        char_code = (char_code - key) % 26\n",
        "                    else:\n",
        "                        # Invalid shift direction\n",
        "                        return \"Invalid shift direction, choose 'right' or 'left'.\"\n",
        "\n",
        "                    # Convert the normalized value back to the ASCII character\n",
        "                    encrypted_char = chr(char_code + ord('a'))\n",
        "                    # Append to the encrypted text\n",
        "                    encrypted_text += encrypted_char\n",
        "                else:\n",
        "                    # For non-alphabetic characters, just append them as they are\n",
        "                    encrypted_text += char\n",
        "        else:\n",
        "            # Invalid key\n",
        "            return \"Invalid key, choose a key between 1 and 26.\"\n",
        "    else:\n",
        "        # Input text is longer than 5 characters\n",
        "        return \"Invalid input length, input should be 5 characters or less.\"\n",
        "\n",
        "    # Check if the plaintext length equals the encrypted text length\n",
        "    if len(input_text) == len(encrypted_text):\n",
        "        # Return the encrypted text\n",
        "        return encrypted_text\n",
        "    else:\n",
        "        # Something went wrong, lengths do not match\n",
        "        return \"Error: plaintext and encrypted text lengths do not match.\"\n"
      ]
    },
    {
      "cell_type": "code",
      "source": [
        "# Example usage:\n",
        "result = caesar_cipher(\"hello\", 4, \"right\")\n",
        "result"
      ],
      "metadata": {
        "colab": {
          "base_uri": "https://localhost:8080/",
          "height": 35
        },
        "id": "eIV5uBanOUAB",
        "outputId": "759a57f4-49c3-4aa4-a91b-63d591001b13"
      },
      "execution_count": null,
      "outputs": [
        {
          "output_type": "execute_result",
          "data": {
            "text/plain": [
              "'lipps'"
            ],
            "application/vnd.google.colaboratory.intrinsic+json": {
              "type": "string"
            }
          },
          "metadata": {},
          "execution_count": 4
        }
      ]
    },
    {
      "cell_type": "code",
      "source": [
        "# Example usage:\n",
        "result = caesar_cipher(\"world\", 4, \"right\")\n",
        "result"
      ],
      "metadata": {
        "colab": {
          "base_uri": "https://localhost:8080/",
          "height": 35
        },
        "id": "KCPjdFNZOvX5",
        "outputId": "08034683-33d4-4eeb-c120-3bdcaabc6583"
      },
      "execution_count": null,
      "outputs": [
        {
          "output_type": "execute_result",
          "data": {
            "text/plain": [
              "'asvph'"
            ],
            "application/vnd.google.colaboratory.intrinsic+json": {
              "type": "string"
            }
          },
          "metadata": {},
          "execution_count": 5
        }
      ]
    },
    {
      "cell_type": "code",
      "source": [
        "plaintext = input('Enter the plaintext (no more than 5 letters): ')\n",
        "key = int(input('Enter the key: '))\n",
        "shift_direction = input('Enter the shift direction (right/left): ')\n",
        "encrypted_text = caesar_cipher(plaintext, key, shift_direction)\n",
        "print('Encrypted text:', encrypted_text)"
      ],
      "metadata": {
        "colab": {
          "base_uri": "https://localhost:8080/"
        },
        "id": "m5_0Sz0yOxr2",
        "outputId": "18396e6d-8adc-4d8a-fc9e-e9a99b80595a"
      },
      "execution_count": null,
      "outputs": [
        {
          "output_type": "stream",
          "name": "stdout",
          "text": [
            "Enter the plaintext (no more than 5 letters): hello\n",
            "Enter the key: 4\n",
            "Enter the shift direction (right/left): right\n",
            "Encrypted text: lipps\n"
          ]
        }
      ]
    },
    {
      "cell_type": "markdown",
      "source": [
        "#CaseStudy: Task management\n",
        "\n",
        "Add Task: We need a function to remove tasks from the task list.\n",
        "\n",
        "Remove task:We need a function to remove tasks from the task list"
      ],
      "metadata": {
        "id": "mCew7IyYUeKL"
      }
    },
    {
      "cell_type": "code",
      "source": [
        "task_list= ['Task 1', 'Task 2', 'Task 3']\n",
        "new_task= 'Task 4'"
      ],
      "metadata": {
        "id": "_qNfx578PkoB"
      },
      "execution_count": null,
      "outputs": []
    },
    {
      "cell_type": "code",
      "source": [
        "def add_task(tasks, task_name):\n",
        "  print(tasks)\n",
        "  tasks.append(task_name)\n",
        "  return tasks"
      ],
      "metadata": {
        "id": "KIrgKya8U72Y"
      },
      "execution_count": null,
      "outputs": []
    },
    {
      "cell_type": "code",
      "source": [
        "add_task(task_list, task_name=new_task)"
      ],
      "metadata": {
        "colab": {
          "base_uri": "https://localhost:8080/"
        },
        "id": "5YJCGcBoVfaE",
        "outputId": "c90c1265-6bca-4459-adbd-933ff7aca45b"
      },
      "execution_count": null,
      "outputs": [
        {
          "output_type": "stream",
          "name": "stdout",
          "text": [
            "['Task 1', 'Task 2', 'Task 3']\n"
          ]
        },
        {
          "output_type": "execute_result",
          "data": {
            "text/plain": [
              "['Task 1', 'Task 2', 'Task 3', 'Task 4']"
            ]
          },
          "metadata": {},
          "execution_count": 22
        }
      ]
    },
    {
      "cell_type": "code",
      "source": [
        "def remove_task(tasks, task_name):\n",
        "  print(tasks)\n",
        "  tasks.remove(task_name)\n",
        "  return tasks"
      ],
      "metadata": {
        "id": "KYRh7q86VozW"
      },
      "execution_count": null,
      "outputs": []
    },
    {
      "cell_type": "code",
      "source": [
        "task_list= ['Task 1', 'Task 2', 'Task 3']\n",
        "new_task= 'Task 4'"
      ],
      "metadata": {
        "id": "H5oyFMQ8WqLn"
      },
      "execution_count": null,
      "outputs": []
    },
    {
      "cell_type": "code",
      "source": [
        "remove_task(task_list, task_name=new_task)"
      ],
      "metadata": {
        "colab": {
          "base_uri": "https://localhost:8080/",
          "height": 269
        },
        "id": "uFeGHJ8OWZ5h",
        "outputId": "429d761b-f910-4890-ddb8-3ff30b6d972d"
      },
      "execution_count": null,
      "outputs": [
        {
          "output_type": "stream",
          "name": "stdout",
          "text": [
            "['Task 1', 'Task 2', 'Task 3']\n"
          ]
        },
        {
          "output_type": "error",
          "ename": "ValueError",
          "evalue": "list.remove(x): x not in list",
          "traceback": [
            "\u001b[0;31m---------------------------------------------------------------------------\u001b[0m",
            "\u001b[0;31mValueError\u001b[0m                                Traceback (most recent call last)",
            "\u001b[0;32m<ipython-input-26-3b4444466c80>\u001b[0m in \u001b[0;36m<cell line: 1>\u001b[0;34m()\u001b[0m\n\u001b[0;32m----> 1\u001b[0;31m \u001b[0mremove_task\u001b[0m\u001b[0;34m(\u001b[0m\u001b[0mtask_list\u001b[0m\u001b[0;34m,\u001b[0m \u001b[0mtask_name\u001b[0m\u001b[0;34m=\u001b[0m\u001b[0mnew_task\u001b[0m\u001b[0;34m)\u001b[0m\u001b[0;34m\u001b[0m\u001b[0;34m\u001b[0m\u001b[0m\n\u001b[0m",
            "\u001b[0;32m<ipython-input-23-26d609166269>\u001b[0m in \u001b[0;36mremove_task\u001b[0;34m(tasks, task_name)\u001b[0m\n\u001b[1;32m      1\u001b[0m \u001b[0;32mdef\u001b[0m \u001b[0mremove_task\u001b[0m\u001b[0;34m(\u001b[0m\u001b[0mtasks\u001b[0m\u001b[0;34m,\u001b[0m \u001b[0mtask_name\u001b[0m\u001b[0;34m)\u001b[0m\u001b[0;34m:\u001b[0m\u001b[0;34m\u001b[0m\u001b[0;34m\u001b[0m\u001b[0m\n\u001b[1;32m      2\u001b[0m   \u001b[0mprint\u001b[0m\u001b[0;34m(\u001b[0m\u001b[0mtasks\u001b[0m\u001b[0;34m)\u001b[0m\u001b[0;34m\u001b[0m\u001b[0;34m\u001b[0m\u001b[0m\n\u001b[0;32m----> 3\u001b[0;31m   \u001b[0mtasks\u001b[0m\u001b[0;34m.\u001b[0m\u001b[0mremove\u001b[0m\u001b[0;34m(\u001b[0m\u001b[0mtask_name\u001b[0m\u001b[0;34m)\u001b[0m\u001b[0;34m\u001b[0m\u001b[0;34m\u001b[0m\u001b[0m\n\u001b[0m\u001b[1;32m      4\u001b[0m   \u001b[0;32mreturn\u001b[0m \u001b[0mtasks\u001b[0m\u001b[0;34m\u001b[0m\u001b[0;34m\u001b[0m\u001b[0m\n",
            "\u001b[0;31mValueError\u001b[0m: list.remove(x): x not in list"
          ]
        }
      ]
    },
    {
      "cell_type": "markdown",
      "source": [
        "add tasks until 10"
      ],
      "metadata": {
        "id": "he8RJSsFW9Pe"
      }
    },
    {
      "cell_type": "code",
      "source": [
        "add_task(task_list, task_name='Task 5')"
      ],
      "metadata": {
        "colab": {
          "base_uri": "https://localhost:8080/"
        },
        "id": "F10VDfscWyti",
        "outputId": "5fb1edd6-deeb-453b-c72c-45e19bcc1051"
      },
      "execution_count": null,
      "outputs": [
        {
          "output_type": "stream",
          "name": "stdout",
          "text": [
            "['Task 1', 'Task 2', 'Task 3', 'Task 5']\n"
          ]
        },
        {
          "output_type": "execute_result",
          "data": {
            "text/plain": [
              "['Task 1', 'Task 2', 'Task 3', 'Task 5', 'Task 5']"
            ]
          },
          "metadata": {},
          "execution_count": 28
        }
      ]
    },
    {
      "cell_type": "markdown",
      "source": [
        "#CaseStudy: Simple Shooping Cart\n",
        "- funtion to add items to the shopping list"
      ],
      "metadata": {
        "id": "SGg9Iue4Zh9J"
      }
    },
    {
      "cell_type": "code",
      "source": [
        "shopping_list = []"
      ],
      "metadata": {
        "id": "JmjrOA6zZ4Mo"
      },
      "execution_count": null,
      "outputs": []
    },
    {
      "cell_type": "code",
      "source": [
        "def add_item(shopping_list, item):\n",
        "  print(shopping_list)\n",
        "  shopping_list.append(item)\n",
        "  return shopping_list"
      ],
      "metadata": {
        "id": "eRzUQdF9Xew5"
      },
      "execution_count": null,
      "outputs": []
    },
    {
      "cell_type": "code",
      "source": [
        "add_item(shopping_list, 'apple')"
      ],
      "metadata": {
        "colab": {
          "base_uri": "https://localhost:8080/"
        },
        "id": "fROa43AkZ-hb",
        "outputId": "f8f93a6f-3b0f-43cf-c33e-0b287769f62a"
      },
      "execution_count": null,
      "outputs": [
        {
          "output_type": "stream",
          "name": "stdout",
          "text": [
            "[]\n"
          ]
        },
        {
          "output_type": "execute_result",
          "data": {
            "text/plain": [
              "['apple']"
            ]
          },
          "metadata": {},
          "execution_count": 46
        }
      ]
    },
    {
      "cell_type": "code",
      "source": [
        "add_item(shopping_list, 'banana')"
      ],
      "metadata": {
        "colab": {
          "base_uri": "https://localhost:8080/"
        },
        "id": "mnqWBf0RaRdy",
        "outputId": "09bedc03-8b2d-4121-f6b6-4ac25d8f5728"
      },
      "execution_count": null,
      "outputs": [
        {
          "output_type": "stream",
          "name": "stdout",
          "text": [
            "['apple']\n"
          ]
        },
        {
          "output_type": "execute_result",
          "data": {
            "text/plain": [
              "['apple', 'banana']"
            ]
          },
          "metadata": {},
          "execution_count": 47
        }
      ]
    },
    {
      "cell_type": "code",
      "source": [
        "add_item(shopping_list, 'orange')"
      ],
      "metadata": {
        "colab": {
          "base_uri": "https://localhost:8080/"
        },
        "id": "0YseZAaxaVrK",
        "outputId": "b41ba007-caed-4e0c-db57-6791b5ec141e"
      },
      "execution_count": null,
      "outputs": [
        {
          "output_type": "stream",
          "name": "stdout",
          "text": [
            "['apple', 'banana']\n"
          ]
        },
        {
          "output_type": "execute_result",
          "data": {
            "text/plain": [
              "['apple', 'banana', 'orange']"
            ]
          },
          "metadata": {},
          "execution_count": 48
        }
      ]
    },
    {
      "cell_type": "code",
      "source": [
        "add_item(shopping_list, 'pear')"
      ],
      "metadata": {
        "colab": {
          "base_uri": "https://localhost:8080/"
        },
        "id": "tn-FxDRpaY9O",
        "outputId": "153c80e0-2c3e-4652-a19a-7b6a55671d11"
      },
      "execution_count": null,
      "outputs": [
        {
          "output_type": "stream",
          "name": "stdout",
          "text": [
            "['apple', 'banana', 'orange']\n"
          ]
        },
        {
          "output_type": "execute_result",
          "data": {
            "text/plain": [
              "['apple', 'banana', 'orange', 'pear']"
            ]
          },
          "metadata": {},
          "execution_count": 49
        }
      ]
    },
    {
      "cell_type": "code",
      "source": [
        "add_item(shopping_list, 'grape')"
      ],
      "metadata": {
        "colab": {
          "base_uri": "https://localhost:8080/"
        },
        "id": "fx3fdPZNaaZc",
        "outputId": "3835c026-bffb-4758-dc81-79b1022b7f28"
      },
      "execution_count": null,
      "outputs": [
        {
          "output_type": "stream",
          "name": "stdout",
          "text": [
            "['apple', 'banana', 'orange', 'pear']\n"
          ]
        },
        {
          "output_type": "execute_result",
          "data": {
            "text/plain": [
              "['apple', 'banana', 'orange', 'pear', 'grape']"
            ]
          },
          "metadata": {},
          "execution_count": 50
        }
      ]
    },
    {
      "cell_type": "code",
      "source": [
        "def remove_item(shopping_list, item):\n",
        "  print(shopping_list)\n",
        "  shopping_list.remove(item)\n",
        "  return shopping_list"
      ],
      "metadata": {
        "id": "cCBgSZzRacGP"
      },
      "execution_count": null,
      "outputs": []
    },
    {
      "cell_type": "code",
      "source": [
        "def replace_item(shopping_list, old_item, new_item):\n",
        "  print(shopping_list)\n",
        "  shopping_list.remove(old_item)\n",
        "  shopping_list.append(new_item)\n",
        "  return shopping_list"
      ],
      "metadata": {
        "id": "yvK50F4raiLk"
      },
      "execution_count": null,
      "outputs": []
    },
    {
      "cell_type": "code",
      "source": [
        "def check_number_of_items(shopping_list):\n",
        "  return(len(shopping_list))"
      ],
      "metadata": {
        "id": "0oz743Oya5Vg"
      },
      "execution_count": null,
      "outputs": []
    },
    {
      "cell_type": "code",
      "source": [
        "# prompt: the shooping list must always have between 5 and 10 items\n",
        "\n",
        "def check_and_adjust_shopping_list(shopping_list):\n",
        "  # Check if the shopping list has less than 5 items\n",
        "  if len(shopping_list) < 5:\n",
        "    # Add items to the list until it has at least 5 items\n",
        "    while len(shopping_list) < 5:\n",
        "      new_item = input(\"Please add an item to the shopping list: \")\n",
        "      add_item(shopping_list, new_item)\n",
        "\n",
        "  # Check if the shopping list has more than 10 items\n",
        "  elif len(shopping_list) > 10:\n",
        "    # Remove items from the list until it has at most 10 items\n",
        "    while len(shopping_list) > 10:\n",
        "      remove_item(shopping_list, input(\"Please remove an item from the shopping list: \"))\n",
        "\n",
        "  return shopping_list\n",
        "\n",
        "# Adjust the shopping list if necessary\n",
        "shopping_list = check_and_adjust_shopping_list(shopping_list)\n",
        "\n",
        "# Print the final shopping list\n",
        "print(\"Shopping list:\", shopping_list)\n"
      ],
      "metadata": {
        "colab": {
          "base_uri": "https://localhost:8080/"
        },
        "id": "gq7mYn2pbCU3",
        "outputId": "4c5a14d4-890c-4c3d-a212-83bb04b34cff"
      },
      "execution_count": null,
      "outputs": [
        {
          "output_type": "stream",
          "name": "stdout",
          "text": [
            "Shopping list: ['apple', 'banana', 'orange', 'pear', 'grape']\n"
          ]
        }
      ]
    },
    {
      "cell_type": "markdown",
      "source": [
        "#Testing Shopping Functions"
      ],
      "metadata": {
        "id": "2cN_y-9dh0O5"
      }
    },
    {
      "cell_type": "code",
      "source": [
        "shopping_list"
      ],
      "metadata": {
        "colab": {
          "base_uri": "https://localhost:8080/"
        },
        "id": "Wt5jaGjCh-m4",
        "outputId": "8b113865-a888-4781-dd6b-136cb082e613"
      },
      "execution_count": null,
      "outputs": [
        {
          "output_type": "execute_result",
          "data": {
            "text/plain": [
              "['apple', 'banana', 'orange', 'pear', 'grape']"
            ]
          },
          "metadata": {},
          "execution_count": 51
        }
      ]
    },
    {
      "cell_type": "code",
      "source": [
        "remove_item(shopping_list, 'apple')"
      ],
      "metadata": {
        "colab": {
          "base_uri": "https://localhost:8080/"
        },
        "id": "WZkwFg2niDQV",
        "outputId": "eb3bdad3-3b3f-45ec-9a48-44e9283a48c9"
      },
      "execution_count": null,
      "outputs": [
        {
          "output_type": "stream",
          "name": "stdout",
          "text": [
            "['apple', 'banana', 'orange', 'pear', 'grape']\n"
          ]
        },
        {
          "output_type": "execute_result",
          "data": {
            "text/plain": [
              "['banana', 'orange', 'pear', 'grape']"
            ]
          },
          "metadata": {},
          "execution_count": 52
        }
      ]
    },
    {
      "cell_type": "code",
      "source": [
        "check_number_of_items(shopping_list)"
      ],
      "metadata": {
        "colab": {
          "base_uri": "https://localhost:8080/"
        },
        "id": "4m6ijaQhiRxH",
        "outputId": "a90ca87b-cee7-485f-fe6e-4604c9869cec"
      },
      "execution_count": null,
      "outputs": [
        {
          "output_type": "execute_result",
          "data": {
            "text/plain": [
              "4"
            ]
          },
          "metadata": {},
          "execution_count": 53
        }
      ]
    },
    {
      "cell_type": "code",
      "source": [
        "check_and_adjust_shopping_list(shopping_list)"
      ],
      "metadata": {
        "colab": {
          "base_uri": "https://localhost:8080/"
        },
        "id": "6zimp31BiXdk",
        "outputId": "3eae7a62-4f16-4f87-85f9-a52be8957a91"
      },
      "execution_count": null,
      "outputs": [
        {
          "output_type": "stream",
          "name": "stdout",
          "text": [
            "Please add an item to the shopping list: mango\n",
            "['banana', 'orange', 'pear', 'grape']\n"
          ]
        },
        {
          "output_type": "execute_result",
          "data": {
            "text/plain": [
              "['banana', 'orange', 'pear', 'grape', 'mango']"
            ]
          },
          "metadata": {},
          "execution_count": 54
        }
      ]
    },
    {
      "cell_type": "code",
      "source": [
        "def add_item(shopping_list, adding_item):\n",
        "  if len(shopping_list) > 10:\n",
        "    print(\"The shopping list is full.\")\n",
        "  shopping_list.append(adding_item)\n",
        "  return shopping_list"
      ],
      "metadata": {
        "id": "zJBfSHeAiw4o"
      },
      "execution_count": null,
      "outputs": []
    },
    {
      "cell_type": "code",
      "source": [
        "def remove_item(shopping_list, removing_item):\n",
        "  if len(shopping_list) < 5:\n",
        "    print(\"The shopping list is empty.\")\n",
        "  else\n",
        "  shopping_list.remove(removing_item)\n",
        "  return shopping_list"
      ],
      "metadata": {
        "colab": {
          "base_uri": "https://localhost:8080/",
          "height": 108
        },
        "id": "ZeleJd48kgZi",
        "outputId": "39d0b297-0d33-46e7-f9c2-ddf52d265488"
      },
      "execution_count": null,
      "outputs": [
        {
          "output_type": "error",
          "ename": "SyntaxError",
          "evalue": "expected ':' (<ipython-input-57-3211bbaef5b7>, line 4)",
          "traceback": [
            "\u001b[0;36m  File \u001b[0;32m\"<ipython-input-57-3211bbaef5b7>\"\u001b[0;36m, line \u001b[0;32m4\u001b[0m\n\u001b[0;31m    else\u001b[0m\n\u001b[0m        ^\u001b[0m\n\u001b[0;31mSyntaxError\u001b[0m\u001b[0;31m:\u001b[0m expected ':'\n"
          ]
        }
      ]
    }
  ]
}